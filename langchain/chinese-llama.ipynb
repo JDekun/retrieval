{
 "cells": [
  {
   "cell_type": "code",
   "execution_count": 13,
   "metadata": {},
   "outputs": [
    {
     "name": "stderr",
     "output_type": "stream",
     "text": [
      "Loading checkpoint shards: 100%|██████████| 2/2 [00:08<00:00,  4.46s/it]\n"
     ]
    }
   ],
   "source": [
    "import os\n",
    "os.environ[\"CUDA_VISIBLE_DEVICES\"] = '2'\n",
    "from langchain import HuggingFacePipeline\n",
    "import torch\n",
    "\n",
    "model_path =\"./models/chinese-llama-2-7b\"\n",
    "model = HuggingFacePipeline.from_model_id(model_id=model_path,\n",
    "        task=\"text-generation\",\n",
    "        device=0,\n",
    "        model_kwargs={\n",
    "                        \"torch_dtype\" : torch.float16,\n",
    "                        \"low_cpu_mem_usage\" : True,\n",
    "                        \"temperature\": 0.2,\n",
    "                        \"max_length\": 100,\n",
    "                        \"repetition_penalty\":1.1}\n",
    "        )"
   ]
  },
  {
   "cell_type": "code",
   "execution_count": 14,
   "metadata": {},
   "outputs": [],
   "source": [
    "from langchain import PromptTemplate, LLMChain\n",
    "\n",
    "template = \"\"\"问题: {question}\n",
    "\n",
    "回答:让我们一步一步的回答。\"\"\"\n",
    "\n",
    "prompt = PromptTemplate(template=template, input_variables=[\"question\"])\n",
    "\n",
    "llm_chain = LLMChain(prompt=prompt, llm=model)"
   ]
  },
  {
   "cell_type": "code",
   "execution_count": 16,
   "metadata": {},
   "outputs": [
    {
     "data": {
      "text/plain": [
       "' ** 1.什么是llama？ llama是lisp语言的缩写,意思是\"小羊\",在lisp中,llama是一个函数名,它返回一个值,这个值就是我们想要的。 2.如何使用llama？ 使用llama的时候,需要先定义一个变量,然后用这个变量来作为参数传递给llama函数,最后再从llama函数返回的结果'"
      ]
     },
     "execution_count": 16,
     "metadata": {},
     "output_type": "execute_result"
    }
   ],
   "source": [
    "question = \"什么是llama\"\n",
    "print(llm_chain.run(question))"
   ]
  }
 ],
 "metadata": {
  "kernelspec": {
   "display_name": "llama",
   "language": "python",
   "name": "python3"
  },
  "language_info": {
   "codemirror_mode": {
    "name": "ipython",
    "version": 3
   },
   "file_extension": ".py",
   "mimetype": "text/x-python",
   "name": "python",
   "nbconvert_exporter": "python",
   "pygments_lexer": "ipython3",
   "version": "3.10.12"
  },
  "orig_nbformat": 4
 },
 "nbformat": 4,
 "nbformat_minor": 2
}
